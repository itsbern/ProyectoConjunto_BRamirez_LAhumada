{
 "cells": [
  {
   "cell_type": "markdown",
   "id": "58636834",
   "metadata": {},
   "source": [
    "<img style=\"float: left; margin: 30px 15px 15px 15px;\" src=\"https://pngimage.net/wp-content/uploads/2018/06/logo-iteso-png-5.png\" width=\"300\" height=\"500\" /> \n",
    "    \n",
    "    \n",
    "### <font color='navy'> Simulación de procesos financieros. \n",
    "\n",
    "**Nombres:** Luis Jorge Ahumada, \n",
    "\n",
    "**Fecha:** 11 de marzo del 2022.\n",
    "\n",
    "**Expediente** : 728125.\n",
    "**Profesor:** Oscar David Jaramillo Zuluaga.\n",
    "    \n",
    "**Link Github**: Link con el enlace del repositorio del creador del proyecto\n",
    "\n",
    "# Tarea 4: Clase 10,11"
   ]
  },
  {
   "cell_type": "markdown",
   "id": "472d4709",
   "metadata": {},
   "source": [
    "## Enunciado de tarea \n",
    "> Descripción de la tarea\n",
    ">### <font color ='red'> **Tarea 4** \n",
    "    \n",
    "> Para las siguiente dos funciones, genere muestres aleatorias que distribuyan según la función dada usando el método de la transformada inversa y grafique el histograma de 1000 muestras generadas con el método de la transformada inversa y compárela con el función $f(x)$ **(recuerde que $f(x)$ es la distribución de probabilidad y $F(x)$ es la distribución de probabilidad acumulada)** [ver este enlace para más información](https://es.wikipedia.org/wiki/Funci%C3%B3n_de_distribuci%C3%B3n). Este procedimiento se realiza con el fín de validar que el procedimiento y los resultados son correctos.\n",
    "    \n",
    "> 1. Generación variable aleatoria continua\n",
    ">El tiempo en el cual un movimiento browniano se mantiene sobre su punto máximo en el intervalo [0,1] tiene una distribución\n",
    ">$$F(x)=\\frac{2}{\\pi}\\sin^{-1}(\\sqrt x),\\quad 0\\leq x\\leq 1$$ </font>\n",
    "\n",
    "> 2. Generación variable aleatoria Discreta\n",
    "> La distribución binomial modela el número de éxitos de n ensayos independientes donde hay una probabilidad p de éxito en cada ensayo.\n",
    "> Generar una variable aletoria binomial con parámetros $n=10$ y $p=0.7$. Recordar que $$X\\sim binomial(n,p) \\longrightarrow p_i=P(X=i)=\\frac{n!}{i!(n-i)!}p^i(1-p)^{n-i},\\quad i=0,1,\\cdots,n$$\n",
    "> Por propiedades de la operación factorial la anterior $p_i$ se puede escribir como:\n",
    "> $$p_{i+1}=\\frac{n-i}{i+1}\\frac{p}{1-p} p_i $$\n",
    "\n",
    "> **Nota:** Por notación recuerde que para el caso continuo $f(x)$ es la distribución de probabilidad (PDF), mientras $F(x)$ corresponde a la distribución de probabilidad acumulada (CDF). Para el caso discreto, $P(X=i)$ corresponde a su distribución de probabilidad (PMF) y $ F_{X}(x)=\\operatorname {P} (X\\leq x)=\\sum _{x_{i}\\leq x}\\operatorname {P} (X=x_{i})=\\sum _{x_{i}\\leq x}p(x_{i})$, corresponde a su distribución de probabilidad acumulada (CDF).\n"
   ]
  },
  {
   "cell_type": "code",
   "execution_count": 2,
   "id": "ce4be21b",
   "metadata": {},
   "outputs": [
    {
     "data": {
      "image/png": "[encoded data removed]",
      "text/plain": [
       "<Figure size 432x288 with 1 Axes>"
      ]
     },
     "metadata": {
      "needs_background": "light"
     },
     "output_type": "display_data"
    }
   ],
   "source": [
    "# Código de solución estudiante 1\n",
    "import numpy as np\n",
    "import matplotlib.pyplot as plt\n",
    "\n",
    "# Función de densidad de probabilidad\n",
    "def f(x):\n",
    "    return (1/np.pi)*(1/np.sqrt(x*(1-x)))\n",
    "\n",
    "# Función inversa de la CDF\n",
    "def invCDF(u):\n",
    "    return np.sin(np.pi*u/2)**2\n",
    "\n",
    "# Generación de muestras aleatorias\n",
    "u = np.random.uniform(size=1000)\n",
    "x = invCDF(u)\n",
    "\n",
    "# Histograma de las muestras generadas\n",
    "plt.hist(x, bins=50, density=True, alpha=0.5, label='Muestras generadas')\n",
    "\n",
    "# Gráfica de la función de densidad de probabilidad\n",
    "xs = np.linspace(0.01, 0.99, 100)\n",
    "plt.plot(xs, f(xs), 'r-', lw=2, label='Función de densidad de probabilidad')\n",
    "\n",
    "plt.legend()\n",
    "plt.show()\n"
   ]
  },
  {
   "cell_type": "markdown",
   "id": "1cef5b5f",
   "metadata": {},
   "source": [
    "## Enunciado de tarea \n",
    "> Descripción de la tarea\n",
    "### Ejemplo binomial: \n",
    "La distribución binomial modela el número de éxitos de n ensayos independientes donde hay una probabilidad p de éxito en cada ensayo.\n",
    "\n",
    "Generar una variable aletoria binomial con parámetros $n=10$ y $p=0.7$. Recordar que\n",
    "$$X\\sim binomial(n,p) \\longrightarrow p_i=P(X=i)=\\frac{n!}{i!(n-i)!}p^i(1-p)^{n-i},\\quad i=0,1,\\cdots,n$$\n",
    "> ## <font color ='red'>Tarea 4: Demostrar la validez de la siguiente ecuación\n",
    ">$$p_{i+1}=\\frac{n-i}{i+1}\\frac{p}{1-p} p_i \\longrightarrow \\text{Hablar de las ventajas que sea recursiva}$$"
   ]
  },
  {
   "cell_type": "code",
   "execution_count": 3,
   "id": "6774d24a",
   "metadata": {},
   "outputs": [
    {
     "name": "stdout",
     "output_type": "stream",
     "text": [
      "6\n",
      "7\n",
      "5\n",
      "6\n",
      "6\n",
      "7\n",
      "7\n",
      "4\n",
      "7\n",
      "7\n"
     ]
    }
   ],
   "source": [
    "import random\n",
    "\n",
    "n = 10\n",
    "p = 0.7\n",
    "\n",
    "# Función que calcula la probabilidad p_i utilizando la ecuación recursiva\n",
    "def p_next(i, p_i):\n",
    "    return (n - i) / (i + 1) * p / (1 - p) * p_i\n",
    "\n",
    "# Calculamos la función acumulada de probabilidad\n",
    "F = [0] * (n + 1)\n",
    "F[0] = (1 - p) ** n\n",
    "for i in range(1, n + 1):\n",
    "    F[i] = F[i-1] + p_next(i-1, F[i-1])\n",
    "\n",
    "# Generamos una variable aleatoria binomial utilizando la transformada inversa\n",
    "def binomial():\n",
    "    u = random.uniform(0, 1)\n",
    "    for i in range(n + 1):\n",
    "        if u <= F[i]:\n",
    "            return i\n",
    "\n",
    "# Ejemplo de uso: generamos 10 variables aleatorias binomiales y las imprimimos\n",
    "for i in range(10):\n",
    "    print(binomial())\n"
   ]
  },
  {
   "cell_type": "markdown",
   "id": "ddf0be47",
   "metadata": {},
   "source": [
    "## Enunciado de tarea \n",
    "> Descripción de la tarea\n",
    "\n",
    "> ## <font color ='red'>Tarea 4\n",
    "Seguir un procedimiento similar al mostrado cuando se generó una distribución binomial, pero en esta caso genere un código que genere variables aletorias Poisson cuya función de distribución de probabilidad esta dada por:\n",
    ">$$P(k,\\lambda)=\\frac{e^{-\\lambda}(\\lambda)^k}{k!}$$\n",
    "    \n",
    "> Demuestre matemáticamente que \n",
    "> $$P(k+1)=\\frac{\\lambda}{k+1}P(k)$$\n",
    "> y a partir de esta relación genere variables aletorias que distribuyen poisson usando el método de la transformada inversa.\n",
    "\n",
    "Enlace: https://es.wikipedia.org/wiki/Distribuci%C3%B3n_de_Poisson"
   ]
  },
  {
   "cell_type": "code",
   "execution_count": 4,
   "id": "57e894fc",
   "metadata": {},
   "outputs": [],
   "source": [
    "import numpy as np\n",
    "\n",
    "def poisson(lam):\n",
    "    k = 0\n",
    "    p = np.exp(-lam)\n",
    "    u = np.random.uniform()\n",
    "    while u >= p:\n",
    "        k += 1\n",
    "        p *= lam / k\n",
    "    return k\n"
   ]
  },
  {
   "cell_type": "code",
   "execution_count": 5,
   "id": "709b6abd",
   "metadata": {},
   "outputs": [
    {
     "data": {
      "text/plain": [
       "0"
      ]
     },
     "execution_count": 5,
     "metadata": {},
     "output_type": "execute_result"
    }
   ],
   "source": [
    "poisson(1)"
   ]
  },
  {
   "cell_type": "code",
   "execution_count": null,
   "id": "b830a1be",
   "metadata": {},
   "outputs": [],
   "source": []
  }
 ],
 "metadata": {
  "kernelspec": {
   "display_name": "Python 3 (ipykernel)",
   "language": "python",
   "name": "python3"
  },
  "language_info": {
   "codemirror_mode": {
    "name": "ipython",
    "version": 3
   },
   "file_extension": ".py",
   "mimetype": "text/x-python",
   "name": "python",
   "nbconvert_exporter": "python",
   "pygments_lexer": "ipython3",
   "version": "3.9.12"
  }
 },
 "nbformat": 4,
 "nbformat_minor": 5
}
